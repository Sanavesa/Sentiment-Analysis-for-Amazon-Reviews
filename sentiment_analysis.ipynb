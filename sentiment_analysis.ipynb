{
 "cells": [
  {
   "cell_type": "code",
   "execution_count": 1,
   "metadata": {},
   "outputs": [
    {
     "name": "stderr",
     "output_type": "stream",
     "text": [
      "[nltk_data] Downloading package wordnet to\n",
      "[nltk_data]     C:\\Users\\Sanavesa\\AppData\\Roaming\\nltk_data...\n",
      "[nltk_data]   Package wordnet is already up-to-date!\n"
     ]
    }
   ],
   "source": [
    "# !pip install pandas\n",
    "# !pip install numpy\n",
    "# !pip install nltk\n",
    "# !pip install bs4\n",
    "\n",
    "import pandas as pd\n",
    "import numpy as np\n",
    "import nltk\n",
    "nltk.download('wordnet')\n",
    "import re\n",
    "from bs4 import BeautifulSoup"
   ]
  },
  {
   "cell_type": "code",
   "execution_count": 2,
   "metadata": {},
   "outputs": [],
   "source": [
    "# Dataset: https://s3.amazonaws.com/amazon-reviews-pds/tsv/amazon_reviews_us_Kitchen_v1_00.tsv.gz"
   ]
  },
  {
   "cell_type": "markdown",
   "metadata": {},
   "source": [
    "## Ensure reproducibility\n",
    "Use a fixed seed such that all steps and results can be reproduced."
   ]
  },
  {
   "cell_type": "code",
   "execution_count": 3,
   "metadata": {},
   "outputs": [],
   "source": [
    "# seed handpicked to ensure all of the cleaning/pre-processing steps were visually shown\n",
    "np.random.seed(544)\n",
    "\n",
    "# credits: google, used to hide bs4 warnings (MarkupResemblesLocatorWarning)\n",
    "import warnings\n",
    "warnings.filterwarnings(\"ignore\", category=UserWarning, module='bs4')"
   ]
  },
  {
   "cell_type": "markdown",
   "metadata": {},
   "source": [
    "## Read Data\n",
    "Load the data locally while skipping on lines that contains errors."
   ]
  },
  {
   "cell_type": "code",
   "execution_count": 4,
   "metadata": {},
   "outputs": [],
   "source": [
    "# Load the data locally, can be done using the URL as well\n",
    "fname = 'amazon_reviews_us_Kitchen_v1_00.tsv.gz'\n",
    "original_data = pd.read_csv(fname, sep='\\t', compression='gzip', on_bad_lines='skip')"
   ]
  },
  {
   "cell_type": "code",
   "execution_count": 5,
   "metadata": {},
   "outputs": [],
   "source": [
    "# Make the notebook's display fn use the entire screen width\n",
    "pd.set_option('display.max_colwidth', None)"
   ]
  },
  {
   "cell_type": "markdown",
   "metadata": {},
   "source": [
    "## Keep Reviews and Ratings\n",
    "Strip the dataset to use only the two columns we're interested in, while dropping all rows that have missing values. Finally, we display statistics about the dataset we'll be working with."
   ]
  },
  {
   "cell_type": "code",
   "execution_count": 6,
   "metadata": {},
   "outputs": [
    {
     "name": "stdout",
     "output_type": "stream",
     "text": [
      "There are 4874644 reviews in the dataset.\n",
      "Review rating's average is 4.207 with a standard deviation of 1.287.\n",
      "\n",
      "There are 426870 reviews with a rating of 1.\n",
      "There are 241939 reviews with a rating of 2.\n",
      "There are 349539 reviews with a rating of 3.\n",
      "There are 731701 reviews with a rating of 4.\n",
      "There are 3124595 reviews with a rating of 5.\n",
      "\n",
      "Three sample reviews:\n"
     ]
    },
    {
     "data": {
      "text/html": [
       "<div>\n",
       "<style scoped>\n",
       "    .dataframe tbody tr th:only-of-type {\n",
       "        vertical-align: middle;\n",
       "    }\n",
       "\n",
       "    .dataframe tbody tr th {\n",
       "        vertical-align: top;\n",
       "    }\n",
       "\n",
       "    .dataframe thead th {\n",
       "        text-align: right;\n",
       "    }\n",
       "</style>\n",
       "<table border=\"1\" class=\"dataframe\">\n",
       "  <thead>\n",
       "    <tr style=\"text-align: right;\">\n",
       "      <th></th>\n",
       "      <th>star_rating</th>\n",
       "      <th>review_body</th>\n",
       "    </tr>\n",
       "  </thead>\n",
       "  <tbody>\n",
       "    <tr>\n",
       "      <th>0</th>\n",
       "      <td>5.0</td>\n",
       "      <td>Excelente!!</td>\n",
       "    </tr>\n",
       "    <tr>\n",
       "      <th>1</th>\n",
       "      <td>1.0</td>\n",
       "      <td>Coffee does not taste good from this percolator.  I am very disappointed in this product.</td>\n",
       "    </tr>\n",
       "    <tr>\n",
       "      <th>2</th>\n",
       "      <td>5.0</td>\n",
       "      <td>My husband and I love this set!  It is beautiful!  Even though it only has one plate, it is a fairly large plate. This makes it perfect for sharing a nice, romantic sushi dinner for two.</td>\n",
       "    </tr>\n",
       "  </tbody>\n",
       "</table>\n",
       "</div>"
      ],
      "text/plain": [
       "   star_rating  \\\n",
       "0          5.0   \n",
       "1          1.0   \n",
       "2          5.0   \n",
       "\n",
       "                                                                                                                                                                                  review_body  \n",
       "0                                                                                                                                                                                 Excelente!!  \n",
       "1                                                                                                   Coffee does not taste good from this percolator.  I am very disappointed in this product.  \n",
       "2  My husband and I love this set!  It is beautiful!  Even though it only has one plate, it is a fairly large plate. This makes it perfect for sharing a nice, romantic sushi dinner for two.  "
      ]
     },
     "metadata": {},
     "output_type": "display_data"
    }
   ],
   "source": [
    "# Keep only the 2 columns we need and remove rows that have missing values\n",
    "data = original_data[['star_rating', 'review_body']].copy()\n",
    "data.dropna(inplace=True)\n",
    "\n",
    "# Display statistics about the dataset\n",
    "print(f'There are {len(data.index)} reviews in the dataset.')\n",
    "print(f\"Review rating's average is {data.star_rating.mean():.3f} with a standard deviation of {data.star_rating.std():.3f}.\")\n",
    "print()\n",
    "\n",
    "for i in range(1, 6):\n",
    "    print(f'There are {len(data[ data.star_rating == i ])} reviews with a rating of {i}.')\n",
    "print()\n",
    "\n",
    "print('Three sample reviews:')\n",
    "display(data.sample(n=3, ignore_index=True))"
   ]
  },
  {
   "cell_type": "markdown",
   "metadata": {},
   "source": [
    "# Labelling Reviews:\n",
    "## The reviews with rating 4,5 are labelled to be 1 and 1,2 are labelled as 0. Discard the reviews with rating 3'"
   ]
  },
  {
   "cell_type": "code",
   "execution_count": 7,
   "metadata": {},
   "outputs": [
    {
     "name": "stdout",
     "output_type": "stream",
     "text": [
      "There are 3856296 reviews with positive sentiment.\n",
      "There are 668809 reviews with negative sentiment.\n",
      "There are 349539 reviews with neutral sentiment (discarded).\n"
     ]
    }
   ],
   "source": [
    "# Gather statistics for the three class (negative/positive/neutral sentiment)\n",
    "count_negative = len(data[ data['star_rating'].isin([1, 2]) ])\n",
    "count_neutral = len(data[ data['star_rating'].isin([3]) ])\n",
    "count_positive = len(data[ data['star_rating'].isin([4, 5]) ])\n",
    "\n",
    "print(f'There are {count_positive} reviews with positive sentiment.')\n",
    "print(f'There are {count_negative} reviews with negative sentiment.')\n",
    "print(f'There are {count_neutral} reviews with neutral sentiment (discarded).')\n",
    "\n",
    "# Discard reviews with rating of 3\n",
    "filter_index = data[ data['star_rating'] == 3 ].index\n",
    "data.drop(filter_index, inplace=True)\n",
    "\n",
    "# Map ratings to sentiment\n",
    "rating_mapping = {1: 0, 2: 0, 4: 1, 5: 1}\n",
    "data['star_rating'].replace(rating_mapping, inplace=True)\n",
    "data['star_rating'] = data['star_rating'].astype('int8')"
   ]
  },
  {
   "cell_type": "markdown",
   "metadata": {},
   "source": [
    "## We select 200000 reviews randomly with 100,000 positive and 100,000 negative reviews.\n",
    "Ensure the dataset we'll be working with contains an equal amount of cases for each class to ensure proper and fair training.\n"
   ]
  },
  {
   "cell_type": "code",
   "execution_count": 8,
   "metadata": {},
   "outputs": [],
   "source": [
    "# Get 100k samples for each class, and then concatenate them making it the data we'll use\n",
    "positive_reviews = data[ data['star_rating'] == 1 ].sample(100000)\n",
    "negative_reviews = data[ data['star_rating'] == 0 ].sample(100000)\n",
    "data = pd.concat([positive_reviews, negative_reviews])"
   ]
  },
  {
   "cell_type": "markdown",
   "metadata": {},
   "source": [
    "# Data Cleaning\n",
    "\n",
    "## Convert the all reviews into the lower case.\n",
    "By converting all reviews to lowercase, we reduce the computational power needed to train the model."
   ]
  },
  {
   "cell_type": "code",
   "execution_count": 9,
   "metadata": {},
   "outputs": [],
   "source": [
    "# Create a new column for cleaned reviews, which are lowercase\n",
    "data['cleaned_reviews'] = data['review_body'].str.lower()"
   ]
  },
  {
   "cell_type": "markdown",
   "metadata": {},
   "source": [
    "## Remove the HTML and URLs from the reviews\n",
    "Use BeautifulSoup and regular expressions to remove all HTML tags aswell as HTTP URLs from the reviews as they provide little to no benefit for our purposes of sentiment analysis."
   ]
  },
  {
   "cell_type": "code",
   "execution_count": 10,
   "metadata": {},
   "outputs": [],
   "source": [
    "# Function to remove HTML tags and URLs from a string\n",
    "def sanitize_review(text):\n",
    "    # remove HTML tags\n",
    "    text = BeautifulSoup(str(text), 'html.parser').get_text()   \n",
    "    # remove URLS\n",
    "    text = re.sub(r'http\\S+', '', str(text))\n",
    "    return text\n",
    "\n",
    "data['cleaned_reviews'] = data['cleaned_reviews'].apply(sanitize_review)"
   ]
  },
  {
   "cell_type": "markdown",
   "metadata": {},
   "source": [
    "## Perform contractions on the reviews\n",
    "We also standarize all contractions to their expanded forms to reduce permutations of each word for a faster/streamlined model. This is achieved by utilizing the contractions library as it contains a plethora of pre-defined mappings."
   ]
  },
  {
   "cell_type": "code",
   "execution_count": 11,
   "metadata": {},
   "outputs": [],
   "source": [
    "# !pip install contractions\n",
    "import contractions\n",
    "\n",
    "def fix_contractions(text):\n",
    "    return contractions.fix(text)\n",
    "\n",
    "# Use a library for the contractions as it includes a plethora of pre-defined contractions\n",
    "data['cleaned_reviews'] = data['cleaned_reviews'].apply(fix_contractions)"
   ]
  },
  {
   "cell_type": "markdown",
   "metadata": {},
   "source": [
    "## Remove non-alphabetical characters\n",
    "Remove numbers, signs, and non-English characters as they serve little-to-no purpose in our sentiment analysis, so they're not worth the overhead. This is done using a regular expression."
   ]
  },
  {
   "cell_type": "code",
   "execution_count": 12,
   "metadata": {},
   "outputs": [
    {
     "name": "stderr",
     "output_type": "stream",
     "text": [
      "c:\\users\\sanavesa\\appdata\\local\\programs\\python\\python37\\lib\\site-packages\\ipykernel_launcher.py:2: FutureWarning: The default value of regex will change from True to False in a future version.\n",
      "  \n"
     ]
    }
   ],
   "source": [
    "# Remove all characters but keep english characters and space\n",
    "data['cleaned_reviews'] = data['cleaned_reviews'].str.replace('[^a-zA-Z\\s]', ' ')"
   ]
  },
  {
   "cell_type": "markdown",
   "metadata": {},
   "source": [
    "## Remove the extra spaces between the words\n",
    "Similarly, extra spaces is wasteful and provides no benefit other than using more resources. As such, it is removed so that the reviews are as efficiently compact as possible."
   ]
  },
  {
   "cell_type": "code",
   "execution_count": 13,
   "metadata": {},
   "outputs": [],
   "source": [
    "# Remove all unnecessary spaces\n",
    "def remove_extra_spaces(text):\n",
    "    return ' '.join(str(text).split())\n",
    "\n",
    "data['cleaned_reviews'] = data['cleaned_reviews'].apply(remove_extra_spaces)"
   ]
  },
  {
   "cell_type": "markdown",
   "metadata": {},
   "source": [
    "## Print cleaning results\n",
    "Show the effect of the cleaning step on the reviews by calculating the mean character length."
   ]
  },
  {
   "cell_type": "code",
   "execution_count": 14,
   "metadata": {},
   "outputs": [
    {
     "name": "stdout",
     "output_type": "stream",
     "text": [
      "Before cleaning: 323 characters.\n",
      "After cleaning: 309 characters.\n"
     ]
    }
   ],
   "source": [
    "# Calculate mean review character length of before/after cleaning\n",
    "avg_before_clean = data['review_body'].apply(lambda x: len(str(x))).mean()\n",
    "avg_after_clean = data['cleaned_reviews'].apply(lambda x: len(str(x))).mean()\n",
    "print(f'Before cleaning: {avg_before_clean:.0f} characters.')\n",
    "print(f'After cleaning: {avg_after_clean:.0f} characters.')"
   ]
  },
  {
   "cell_type": "markdown",
   "metadata": {},
   "source": [
    "# Pre-processing"
   ]
  },
  {
   "cell_type": "markdown",
   "metadata": {},
   "source": [
    "## Remove the stop words\n",
    "Using the NLTK stopwords, we remove those stopwords to further reduce the size of the reviews to the bare minimum since stopwords are usually filler words that have little impact on the final result."
   ]
  },
  {
   "cell_type": "code",
   "execution_count": 15,
   "metadata": {},
   "outputs": [
    {
     "name": "stderr",
     "output_type": "stream",
     "text": [
      "[nltk_data] Downloading package stopwords to\n",
      "[nltk_data]     C:\\Users\\Sanavesa\\AppData\\Roaming\\nltk_data...\n",
      "[nltk_data]   Package stopwords is already up-to-date!\n"
     ]
    }
   ],
   "source": [
    "from nltk.corpus import stopwords\n",
    "\n",
    "nltk.download('stopwords')\n",
    "stop = stopwords.words('english')\n",
    "\n",
    "# Split each review into a list of words, then eliminate those words that are in the stopwords set as provided by nltk\n",
    "def remove_stop_words(text):\n",
    "    return ' '.join([word for word in str(text).split() if word not in (stop)])\n",
    "\n",
    "data['processed_reviews'] = data['cleaned_reviews'].apply(remove_stop_words)"
   ]
  },
  {
   "cell_type": "markdown",
   "metadata": {},
   "source": [
    "## Perform lemmatization\n",
    "Moreover, to reduce the review size, words are lemmatized to reduce inflections and word permutations to the bare minimum so that the next step, the features extracted can be as small as possible with no redundancies."
   ]
  },
  {
   "cell_type": "code",
   "execution_count": 16,
   "metadata": {},
   "outputs": [],
   "source": [
    "from nltk.stem import WordNetLemmatizer\n",
    "\n",
    "tokenizer = nltk.tokenize.WhitespaceTokenizer()\n",
    "lemmatizer = WordNetLemmatizer()\n",
    "\n",
    "def lemmatize(text):\n",
    "    return ' '.join([lemmatizer.lemmatize(word, pos='v') for word in tokenizer.tokenize(text)])\n",
    "\n",
    "# Use NLTK lemmatizer with verb as its part of speech to reduce inflections\n",
    "data['processed_reviews'] = data['processed_reviews'].apply(lemmatize)"
   ]
  },
  {
   "cell_type": "markdown",
   "metadata": {},
   "source": [
    "## Print pre-processing results\n",
    "Show the effect of the pre-processing step on the reviews by calculating the mean character length."
   ]
  },
  {
   "cell_type": "code",
   "execution_count": 17,
   "metadata": {},
   "outputs": [
    {
     "name": "stdout",
     "output_type": "stream",
     "text": [
      "Before pre-processing: 309 characters.\n",
      "After pre-processing: 183 characters.\n"
     ]
    },
    {
     "data": {
      "text/html": [
       "<div>\n",
       "<style scoped>\n",
       "    .dataframe tbody tr th:only-of-type {\n",
       "        vertical-align: middle;\n",
       "    }\n",
       "\n",
       "    .dataframe tbody tr th {\n",
       "        vertical-align: top;\n",
       "    }\n",
       "\n",
       "    .dataframe thead th {\n",
       "        text-align: right;\n",
       "    }\n",
       "</style>\n",
       "<table border=\"1\" class=\"dataframe\">\n",
       "  <thead>\n",
       "    <tr style=\"text-align: right;\">\n",
       "      <th></th>\n",
       "      <th>star_rating</th>\n",
       "      <th>review_body</th>\n",
       "      <th>cleaned_reviews</th>\n",
       "      <th>processed_reviews</th>\n",
       "    </tr>\n",
       "  </thead>\n",
       "  <tbody>\n",
       "    <tr>\n",
       "      <th>0</th>\n",
       "      <td>1</td>\n",
       "      <td>We love our Popper! It pops almost every kernel to a perfect crunch and I love that we are eating healthy popcorn, without preservatives,for a fraction of the price than bagged microwave popcorn that's loaded with unhealthy additives.</td>\n",
       "      <td>we love our popper it pops almost every kernel to a perfect crunch and i love that we are eating healthy popcorn without preservatives for a fraction of the price than bagged microwave popcorn that is loaded with unhealthy additives</td>\n",
       "      <td>love popper pop almost every kernel perfect crunch love eat healthy popcorn without preservatives fraction price bag microwave popcorn load unhealthy additives</td>\n",
       "    </tr>\n",
       "    <tr>\n",
       "      <th>1</th>\n",
       "      <td>1</td>\n",
       "      <td>In response to the above review... that touches on the quality of steel, the workmanship of the handle, etc.... but ultimately says the knife looks like it will perform as advertised (and I'm guessing DID... since there is no follow up...). I'd like to say a few things. First off... this cutter is made from American Metalcraft.... and yes, I know the name is a misnomer since their stuff is made in China (all of it as far as I know)... but, you should be doing your research prior to purchasing anyways (never judge a book by its cover, unless you don't care.), so this should not be surprising. Secondly, American Metalcraft is WIDELY regarded as an &amp;#34;industry standard&amp;#34; company, nobody claims that it is the Cadillac of the restaurant industry. Basically, they are the Honda of the culinary world. You don't buy a Honda, then bring it home, go online and point out that your Honda isn't performing like a Mercedes Benz. This cutter is EXACTLY where it should be.... it is priced as a mid-grade cutter, and that is exactly what it is. This product is designed to be a work horse, and not a showroom piece. I just ordered mine today (I have seen them in person in the past however), so I have not yet received it.... but I'm BEYOND sure that it will be up to the standard of all the previous AM products I've purchased. NOT the Mercedes Standard, but the workhorse reliable standard that I have personally experienced from this company over the last few years. So strong is that belief that I was motivated to say something here before mine even shipped. It takes a good company and a great product (again, for the price) to gain that kind of loyalty and credit from a discerning customer, which I consider myself to be. No offense meant to those who have had different experiences. These are just my personal thoughts. But, I think it's VERY unfair to give others the impression that they are looking at a shoddy product, and therefore encouraging them to spend more, when the product shown is a very solid piece, that will probably outperform some other cutters in a higher price bracket. I have worked at three pizza shops, and intend to open my own one day. I don't know a lot but I know the pizza industry, and American Metalcraft is one of the companies I have LEARNED to rely heavily on. In fairness, my experience is limited to their: Pans, trays, cutting wheels, perforated discs, screens, and soon: This beauty.</td>\n",
       "      <td>in response to the above review that touches on the quality of steel the workmanship of the handle etc but ultimately says the knife looks like it will perform as advertised and I am guessing did since there is no follow up I would like to say a few things first off this cutter is made from american metalcraft and yes i know the name is a misnomer since their stuff is made in china all of it as far as i know but you should be doing your research prior to purchasing anyways never judge a book by its cover unless you do not care so this should not be surprising secondly american metalcraft is widely regarded as an industry standard company nobody claims that it is the cadillac of the restaurant industry basically they are the honda of the culinary world you do not buy a honda then bring it home go online and point out that your honda is not performing like a mercedes benz this cutter is exactly where it should be it is priced as a mid grade cutter and that is exactly what it is this product is designed to be a work horse and not a showroom piece i just ordered mine today i have seen them in person in the past however so i have not yet received it but I am beyond sure that it will be up to the standard of all the previous am products I have purchased not the mercedes standard but the workhorse reliable standard that i have personally experienced from this company over the last few years so strong is that belief that i was motivated to say something here before mine even shipped it takes a good company and a great product again for the price to gain that kind of loyalty and credit from a discerning customer which i consider myself to be no offense meant to those who have had different experiences these are just my personal thoughts but i think it is very unfair to give others the impression that they are looking at a shoddy product and therefore encouraging them to spend more when the product shown is a very solid piece that will probably outperform some other cutters in a higher price bracket i have worked at three pizza shops and intend to open my own one day i do not know a lot but i know the pizza industry and american metalcraft is one of the companies i have learned to rely heavily on in fairness my experience is limited to their pans trays cutting wheels perforated discs screens and soon this beauty</td>\n",
       "      <td>response review touch quality steel workmanship handle etc ultimately say knife look like perform advertise I guess since follow I would like say things first cutter make american metalcraft yes know name misnomer since stuff make china far know research prior purchase anyways never judge book cover unless care surprise secondly american metalcraft widely regard industry standard company nobody claim cadillac restaurant industry basically honda culinary world buy honda bring home go online point honda perform like mercedes benz cutter exactly price mid grade cutter exactly product design work horse showroom piece order mine today see person past however yet receive I beyond sure standard previous products I purchase mercedes standard workhorse reliable standard personally experience company last years strong belief motivate say something mine even ship take good company great product price gain kind loyalty credit discern customer consider offense mean different experience personal thoughts think unfair give others impression look shoddy product therefore encourage spend product show solid piece probably outperform cutters higher price bracket work three pizza shop intend open one day know lot know pizza industry american metalcraft one company learn rely heavily fairness experience limit pan trays cut wheel perforate discs screen soon beauty</td>\n",
       "    </tr>\n",
       "    <tr>\n",
       "      <th>2</th>\n",
       "      <td>1</td>\n",
       "      <td>My daughter has always wanted an ice cream maker. I bought her the ice cream maker attachment for her kitchen aid mixer for her birthday.  She was surprised and VERY HAPPY.  She makes ice cream at least once a week.  It's great!</td>\n",
       "      <td>my daughter has always wanted an ice cream maker i bought her the ice cream maker attachment for her kitchen aid mixer for her birthday she was surprised and very happy she makes ice cream at least once a week it is great</td>\n",
       "      <td>daughter always want ice cream maker buy ice cream maker attachment kitchen aid mixer birthday surprise happy make ice cream least week great</td>\n",
       "    </tr>\n",
       "  </tbody>\n",
       "</table>\n",
       "</div>"
      ],
      "text/plain": [
       "   star_rating  \\\n",
       "0            1   \n",
       "1            1   \n",
       "2            1   \n",
       "\n",
       "                                                                                                                                                                                                                                                                                                                                                                                                                                                                                                                                                                                                                                                                                                                                                                                                                                                                                                                                                                                                                                                                                                                                                                                                                                                                                                                                                                                                                                                                                                                                                                                                                                                                                                                                                                                                                                                                                                                                                                                                                                                                                                                                                                                                                                                                                                                                                                                                                                                                                                                       review_body  \\\n",
       "0                                                                                                                                                                                                                                                                                                                                                                                                                                                                                                                                                                                                                                                                                                                                                                                                                                                                                                                                                                                                                                                                                                                                                                                                                                                                                                                                                                                                                                                                                                                                                                                                                                                                                                                                                                                                                                                                                                                                                                                                                                                                                                                                                                                                                                                                                       We love our Popper! It pops almost every kernel to a perfect crunch and I love that we are eating healthy popcorn, without preservatives,for a fraction of the price than bagged microwave popcorn that's loaded with unhealthy additives.   \n",
       "1  In response to the above review... that touches on the quality of steel, the workmanship of the handle, etc.... but ultimately says the knife looks like it will perform as advertised (and I'm guessing DID... since there is no follow up...). I'd like to say a few things. First off... this cutter is made from American Metalcraft.... and yes, I know the name is a misnomer since their stuff is made in China (all of it as far as I know)... but, you should be doing your research prior to purchasing anyways (never judge a book by its cover, unless you don't care.), so this should not be surprising. Secondly, American Metalcraft is WIDELY regarded as an &#34;industry standard&#34; company, nobody claims that it is the Cadillac of the restaurant industry. Basically, they are the Honda of the culinary world. You don't buy a Honda, then bring it home, go online and point out that your Honda isn't performing like a Mercedes Benz. This cutter is EXACTLY where it should be.... it is priced as a mid-grade cutter, and that is exactly what it is. This product is designed to be a work horse, and not a showroom piece. I just ordered mine today (I have seen them in person in the past however), so I have not yet received it.... but I'm BEYOND sure that it will be up to the standard of all the previous AM products I've purchased. NOT the Mercedes Standard, but the workhorse reliable standard that I have personally experienced from this company over the last few years. So strong is that belief that I was motivated to say something here before mine even shipped. It takes a good company and a great product (again, for the price) to gain that kind of loyalty and credit from a discerning customer, which I consider myself to be. No offense meant to those who have had different experiences. These are just my personal thoughts. But, I think it's VERY unfair to give others the impression that they are looking at a shoddy product, and therefore encouraging them to spend more, when the product shown is a very solid piece, that will probably outperform some other cutters in a higher price bracket. I have worked at three pizza shops, and intend to open my own one day. I don't know a lot but I know the pizza industry, and American Metalcraft is one of the companies I have LEARNED to rely heavily on. In fairness, my experience is limited to their: Pans, trays, cutting wheels, perforated discs, screens, and soon: This beauty.   \n",
       "2                                                                                                                                                                                                                                                                                                                                                                                                                                                                                                                                                                                                                                                                                                                                                                                                                                                                                                                                                                                                                                                                                                                                                                                                                                                                                                                                                                                                                                                                                                                                                                                                                                                                                                                                                                                                                                                                                                                                                                                                                                                                                                                                                                                                                                                                                             My daughter has always wanted an ice cream maker. I bought her the ice cream maker attachment for her kitchen aid mixer for her birthday.  She was surprised and VERY HAPPY.  She makes ice cream at least once a week.  It's great!   \n",
       "\n",
       "                                                                                                                                                                                                                                                                                                                                                                                                                                                                                                                                                                                                                                                                                                                                                                                                                                                                                                                                                                                                                                                                                                                                                                                                                                                                                                                                                                                                                                                                                                                                                                                                                                                                                                                                                                                                                                                                                                                                                                                                                                                                                                                                                                                                                                                                                                                                                                                                                           cleaned_reviews  \\\n",
       "0                                                                                                                                                                                                                                                                                                                                                                                                                                                                                                                                                                                                                                                                                                                                                                                                                                                                                                                                                                                                                                                                                                                                                                                                                                                                                                                                                                                                                                                                                                                                                                                                                                                                                                                                                                                                                                                                                                                                                                                                                                                                                                                                                                                                 we love our popper it pops almost every kernel to a perfect crunch and i love that we are eating healthy popcorn without preservatives for a fraction of the price than bagged microwave popcorn that is loaded with unhealthy additives   \n",
       "1  in response to the above review that touches on the quality of steel the workmanship of the handle etc but ultimately says the knife looks like it will perform as advertised and I am guessing did since there is no follow up I would like to say a few things first off this cutter is made from american metalcraft and yes i know the name is a misnomer since their stuff is made in china all of it as far as i know but you should be doing your research prior to purchasing anyways never judge a book by its cover unless you do not care so this should not be surprising secondly american metalcraft is widely regarded as an industry standard company nobody claims that it is the cadillac of the restaurant industry basically they are the honda of the culinary world you do not buy a honda then bring it home go online and point out that your honda is not performing like a mercedes benz this cutter is exactly where it should be it is priced as a mid grade cutter and that is exactly what it is this product is designed to be a work horse and not a showroom piece i just ordered mine today i have seen them in person in the past however so i have not yet received it but I am beyond sure that it will be up to the standard of all the previous am products I have purchased not the mercedes standard but the workhorse reliable standard that i have personally experienced from this company over the last few years so strong is that belief that i was motivated to say something here before mine even shipped it takes a good company and a great product again for the price to gain that kind of loyalty and credit from a discerning customer which i consider myself to be no offense meant to those who have had different experiences these are just my personal thoughts but i think it is very unfair to give others the impression that they are looking at a shoddy product and therefore encouraging them to spend more when the product shown is a very solid piece that will probably outperform some other cutters in a higher price bracket i have worked at three pizza shops and intend to open my own one day i do not know a lot but i know the pizza industry and american metalcraft is one of the companies i have learned to rely heavily on in fairness my experience is limited to their pans trays cutting wheels perforated discs screens and soon this beauty   \n",
       "2                                                                                                                                                                                                                                                                                                                                                                                                                                                                                                                                                                                                                                                                                                                                                                                                                                                                                                                                                                                                                                                                                                                                                                                                                                                                                                                                                                                                                                                                                                                                                                                                                                                                                                                                                                                                                                                                                                                                                                                                                                                                                                                                                                                                            my daughter has always wanted an ice cream maker i bought her the ice cream maker attachment for her kitchen aid mixer for her birthday she was surprised and very happy she makes ice cream at least once a week it is great   \n",
       "\n",
       "                                                                                                                                                                                                                                                                                                                                                                                                                                                                                                                                                                                                                                                                                                                                                                                                                                                                                                                                                                                                                                                                                                                                                                                                                                                                                                                                                                                                      processed_reviews  \n",
       "0                                                                                                                                                                                                                                                                                                                                                                                                                                                                                                                                                                                                                                                                                                                                                                                                                                                                                                                                                                                                                                                                                                                                                                                                                                                       love popper pop almost every kernel perfect crunch love eat healthy popcorn without preservatives fraction price bag microwave popcorn load unhealthy additives  \n",
       "1  response review touch quality steel workmanship handle etc ultimately say knife look like perform advertise I guess since follow I would like say things first cutter make american metalcraft yes know name misnomer since stuff make china far know research prior purchase anyways never judge book cover unless care surprise secondly american metalcraft widely regard industry standard company nobody claim cadillac restaurant industry basically honda culinary world buy honda bring home go online point honda perform like mercedes benz cutter exactly price mid grade cutter exactly product design work horse showroom piece order mine today see person past however yet receive I beyond sure standard previous products I purchase mercedes standard workhorse reliable standard personally experience company last years strong belief motivate say something mine even ship take good company great product price gain kind loyalty credit discern customer consider offense mean different experience personal thoughts think unfair give others impression look shoddy product therefore encourage spend product show solid piece probably outperform cutters higher price bracket work three pizza shop intend open one day know lot know pizza industry american metalcraft one company learn rely heavily fairness experience limit pan trays cut wheel perforate discs screen soon beauty  \n",
       "2                                                                                                                                                                                                                                                                                                                                                                                                                                                                                                                                                                                                                                                                                                                                                                                                                                                                                                                                                                                                                                                                                                                                                                                                                                                                         daughter always want ice cream maker buy ice cream maker attachment kitchen aid mixer birthday surprise happy make ice cream least week great  "
      ]
     },
     "metadata": {},
     "output_type": "display_data"
    }
   ],
   "source": [
    "# Calculate mean review character length of before/after pre-processing\n",
    "avg_before_preprocessing = data['cleaned_reviews'].apply(lambda x: len(str(x))).mean()\n",
    "avg_after_preprocessing = data['processed_reviews'].apply(lambda x: len(str(x))).mean()\n",
    "print(f'Before pre-processing: {avg_before_preprocessing:.0f} characters.')\n",
    "print(f'After pre-processing: {avg_after_preprocessing:.0f} characters.')\n",
    "\n",
    "# Display three sample reviews for before/after pre-processing\n",
    "display(data.sample(n=3, ignore_index=True))"
   ]
  },
  {
   "cell_type": "markdown",
   "metadata": {},
   "source": [
    "# Training and Testing data split\n",
    "Split the data into two distinct parts (80% training, 20% testing) so that there is no overlap. This is done to ensure no data leakage nor bias influences the training and we can have a better view of the training process (if it overfitted for example)."
   ]
  },
  {
   "cell_type": "code",
   "execution_count": 18,
   "metadata": {},
   "outputs": [],
   "source": [
    "from sklearn.model_selection import train_test_split\n",
    "\n",
    "# Perform an 80-20 split for training and testing data (using the cleaned+pre-processed reviews)\n",
    "review_train, review_test, y_train, y_test = train_test_split(data['processed_reviews'], data['star_rating'], test_size=0.2)"
   ]
  },
  {
   "cell_type": "markdown",
   "metadata": {},
   "source": [
    "# TF-IDF Feature Extraction\n",
    "Compute tf-idf to reflect how important a word is to a document/corpus which is used to train the models below.\n",
    "Note that the TF-IDF extraction is done after splitting the dataset into a training and testing dataset. This is to ensure no data leakage occurs from the testing to the training through TF-IDF."
   ]
  },
  {
   "cell_type": "code",
   "execution_count": 19,
   "metadata": {},
   "outputs": [],
   "source": [
    "# Fit TF-IDF on training data only to prevent data leakage; apply transformation to test data\n",
    "from sklearn.feature_extraction.text import TfidfVectorizer\n",
    "vectorizer = TfidfVectorizer()\n",
    "X_train = vectorizer.fit_transform(review_train)\n",
    "X_test = vectorizer.transform(review_test)"
   ]
  },
  {
   "cell_type": "markdown",
   "metadata": {},
   "source": [
    "## Helper function to report results for each model"
   ]
  },
  {
   "cell_type": "code",
   "execution_count": 20,
   "metadata": {},
   "outputs": [],
   "source": [
    "from sklearn.metrics import accuracy_score, precision_score, recall_score, f1_score\n",
    "\n",
    "def report_results(text, y_true, y_pred):\n",
    "    accuracy = accuracy_score(y_true, y_pred)\n",
    "    precision = precision_score(y_true, y_pred)\n",
    "    recall = recall_score(y_true, y_pred, average='macro')\n",
    "    f1 = f1_score(y_true, y_pred)\n",
    "    \n",
    "    print(f'{text}: accuracy is {accuracy:.3f}.')\n",
    "    print(f'{text}: precision is {precision:.3f}.')\n",
    "    print(f'{text}: recall is {recall:.3f}.')\n",
    "    print(f'{text}: f1-score is {f1:.3f}.')\n",
    "    print()"
   ]
  },
  {
   "cell_type": "markdown",
   "metadata": {},
   "source": [
    "# Perceptron\n",
    "Use a perceptron classifier to train on the supplied dataset."
   ]
  },
  {
   "cell_type": "code",
   "execution_count": 29,
   "metadata": {},
   "outputs": [
    {
     "name": "stdout",
     "output_type": "stream",
     "text": [
      "(200000,)\n",
      "(160000,)\n"
     ]
    }
   ],
   "source": [
    "print(data['processed_reviews'].shape)\n",
    "print(review_train.shape)"
   ]
  },
  {
   "cell_type": "code",
   "execution_count": 21,
   "metadata": {},
   "outputs": [
    {
     "name": "stdout",
     "output_type": "stream",
     "text": [
      "Perceptron Training: accuracy is 0.886.\n",
      "Perceptron Training: precision is 0.921.\n",
      "Perceptron Training: recall is 0.886.\n",
      "Perceptron Training: f1-score is 0.881.\n",
      "\n",
      "Perceptron Testing: accuracy is 0.847.\n",
      "Perceptron Testing: precision is 0.881.\n",
      "Perceptron Testing: recall is 0.847.\n",
      "Perceptron Testing: f1-score is 0.839.\n",
      "\n"
     ]
    }
   ],
   "source": [
    "from sklearn.linear_model import Perceptron\n",
    "\n",
    "model = Perceptron()\n",
    "model.fit(X_train, y_train)\n",
    "\n",
    "y_train_pred = model.predict(X_train)\n",
    "y_test_pred = model.predict(X_test)\n",
    "\n",
    "report_results('Perceptron Training', y_train, y_train_pred)\n",
    "report_results('Perceptron Testing', y_test, y_test_pred)"
   ]
  },
  {
   "cell_type": "markdown",
   "metadata": {},
   "source": [
    "# SVM\n",
    "Use an SVM classifier to train on the supplied dataset."
   ]
  },
  {
   "cell_type": "code",
   "execution_count": 22,
   "metadata": {},
   "outputs": [
    {
     "name": "stdout",
     "output_type": "stream",
     "text": [
      "SVM Training: accuracy is 0.929.\n",
      "SVM Training: precision is 0.931.\n",
      "SVM Training: recall is 0.929.\n",
      "SVM Training: f1-score is 0.929.\n",
      "\n",
      "SVM Testing: accuracy is 0.894.\n",
      "SVM Testing: precision is 0.895.\n",
      "SVM Testing: recall is 0.894.\n",
      "SVM Testing: f1-score is 0.894.\n",
      "\n"
     ]
    }
   ],
   "source": [
    "from sklearn.svm import LinearSVC\n",
    "\n",
    "model = LinearSVC()\n",
    "model.fit(X_train, y_train)\n",
    "\n",
    "y_train_pred = model.predict(X_train)\n",
    "y_test_pred = model.predict(X_test)\n",
    "\n",
    "report_results('SVM Training', y_train, y_train_pred)\n",
    "report_results('SVM Testing', y_test, y_test_pred)"
   ]
  },
  {
   "cell_type": "markdown",
   "metadata": {},
   "source": [
    "# Logistic Regression\n",
    "Use a Logistic Regression classifier to train on the supplied dataset with its max iterations parameter increased to 1500 to ensure that the model converges."
   ]
  },
  {
   "cell_type": "code",
   "execution_count": 23,
   "metadata": {},
   "outputs": [
    {
     "name": "stdout",
     "output_type": "stream",
     "text": [
      "Logistic Regression Training: accuracy is 0.910.\n",
      "Logistic Regression Training: precision is 0.914.\n",
      "Logistic Regression Training: recall is 0.910.\n",
      "Logistic Regression Training: f1-score is 0.910.\n",
      "\n",
      "Logistic Regression Testing: accuracy is 0.897.\n",
      "Logistic Regression Testing: precision is 0.899.\n",
      "Logistic Regression Testing: recall is 0.897.\n",
      "Logistic Regression Testing: f1-score is 0.896.\n",
      "\n"
     ]
    }
   ],
   "source": [
    "from sklearn.linear_model import LogisticRegression\n",
    "\n",
    "# Increase the max iterations from 100 to 1500 to ensure the model converges\n",
    "model = LogisticRegression(max_iter=1500)\n",
    "model.fit(X_train, y_train)\n",
    "\n",
    "y_train_pred = model.predict(X_train)\n",
    "y_test_pred = model.predict(X_test)\n",
    "\n",
    "report_results('Logistic Regression Training', y_train, y_train_pred)\n",
    "report_results('Logistic Regression Testing', y_test, y_test_pred)"
   ]
  },
  {
   "cell_type": "markdown",
   "metadata": {},
   "source": [
    "# Naive Bayes\n",
    "Use a Multinomial Naive Bayes classifier to train on the supplied dataset."
   ]
  },
  {
   "cell_type": "code",
   "execution_count": 24,
   "metadata": {},
   "outputs": [
    {
     "name": "stdout",
     "output_type": "stream",
     "text": [
      "Naive Bayes Training: accuracy is 0.882.\n",
      "Naive Bayes Training: precision is 0.889.\n",
      "Naive Bayes Training: recall is 0.882.\n",
      "Naive Bayes Training: f1-score is 0.880.\n",
      "\n",
      "Naive Bayes Testing: accuracy is 0.867.\n",
      "Naive Bayes Testing: precision is 0.874.\n",
      "Naive Bayes Testing: recall is 0.867.\n",
      "Naive Bayes Testing: f1-score is 0.866.\n",
      "\n"
     ]
    }
   ],
   "source": [
    "from sklearn.naive_bayes import MultinomialNB\n",
    "\n",
    "model = MultinomialNB()\n",
    "model.fit(X_train, y_train)\n",
    "\n",
    "y_train_pred = model.predict(X_train)\n",
    "y_test_pred = model.predict(X_test)\n",
    "\n",
    "report_results('Naive Bayes Training', y_train, y_train_pred)\n",
    "report_results('Naive Bayes Testing', y_test, y_test_pred)"
   ]
  }
 ],
 "metadata": {
  "kernelspec": {
   "display_name": "Python 3 (ipykernel)",
   "language": "python",
   "name": "python3"
  },
  "language_info": {
   "codemirror_mode": {
    "name": "ipython",
    "version": 3
   },
   "file_extension": ".py",
   "mimetype": "text/x-python",
   "name": "python",
   "nbconvert_exporter": "python",
   "pygments_lexer": "ipython3",
   "version": "3.7.9"
  }
 },
 "nbformat": 4,
 "nbformat_minor": 4
}
